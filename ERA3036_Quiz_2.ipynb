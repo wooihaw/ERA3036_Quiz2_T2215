{
 "cells": [
  {
   "cell_type": "markdown",
   "id": "357f87ec",
   "metadata": {},
   "source": [
    "# ERA3036 Quiz 2\n",
    "\n",
    "\n",
    "The fish market dataset is a record of 7 common fish species in the fish market. With this dataset, classification models can be built to predict the species of a fish based on its measurements.\n",
    "\n",
    "For this dataset, you are required to perform the following tasks:\n",
    "1. Read the dataset \"fish.csv\" into a Pandas's DataFrame and print the first 5 rows of the dataset\n",
    "2. Print the number of missing values for each column.\n",
    "3. If there are any missing values, impute (replace) them with the mean values from the same column (skip this step if there is no missing value).\n",
    "4. Separate the dataset to features (X) and targets (y).\n",
    "5. Split the features and targets into training set (75%) and testing set (25%).\n",
    "6. Train k-NN, logistric regression, support vector machine and random forest classification models using the default values for the hyperparameters.\n",
    "7. Evaluate the performance of the models trained in Step (6)"
   ]
  },
  {
   "cell_type": "code",
   "execution_count": null,
   "id": "1e058370",
   "metadata": {},
   "outputs": [],
   "source": [
    "# Import necessary modules and packages (please run this cell first)\n",
    "%matplotlib inline\n",
    "from sklearn.model_selection import train_test_split as split\n",
    "from sklearn.neighbors import KNeighborsClassifier\n",
    "from sklearn.linear_model import LogisticRegression\n",
    "from sklearn.svm import SVC\n",
    "from sklearn.ensemble import RandomForestClassifier\n",
    "from pandas import read_csv\n",
    "from warnings import filterwarnings\n",
    "filterwarnings('ignore')"
   ]
  },
  {
   "cell_type": "code",
   "execution_count": null,
   "id": "93980294",
   "metadata": {},
   "outputs": [],
   "source": [
    "# 1. Read the dataset \"fish.csv\" into Pandas's DataFrame and print the first 5 rows of the dataset\n",
    "\n"
   ]
  },
  {
   "cell_type": "code",
   "execution_count": null,
   "id": "d1a872bd",
   "metadata": {},
   "outputs": [],
   "source": [
    "# 2. Print the number of missing values for each column.\n",
    "\n"
   ]
  },
  {
   "cell_type": "code",
   "execution_count": null,
   "id": "f9fcd84b",
   "metadata": {},
   "outputs": [],
   "source": [
    "# 3. Impute (replace) any missing values with the mean value from the same column\n",
    "# Skip this step if there is no missing value\n",
    "\n"
   ]
  },
  {
   "cell_type": "code",
   "execution_count": null,
   "id": "95b084e8",
   "metadata": {},
   "outputs": [],
   "source": [
    "# 4. Separate the dataset to features (X) and targets (y)\n",
    "\n"
   ]
  },
  {
   "cell_type": "code",
   "execution_count": null,
   "id": "5c863770",
   "metadata": {},
   "outputs": [],
   "source": [
    "# 5. Split the features and targets into training set (75%) and testing set (25%)\n",
    "\n"
   ]
  },
  {
   "cell_type": "code",
   "execution_count": null,
   "id": "2e4daf96",
   "metadata": {},
   "outputs": [],
   "source": [
    "# 6. Train k-NN, logistric regression, support vector machine and random forest classification models \n",
    "# using the default values for the hyperparameters.\n",
    "\n"
   ]
  },
  {
   "cell_type": "code",
   "execution_count": null,
   "id": "15a98fa4",
   "metadata": {},
   "outputs": [],
   "source": [
    "# 7. Evaluate the performance of the models trained in Step (6)\n",
    "\n"
   ]
  }
 ],
 "metadata": {
  "kernelspec": {
   "display_name": "Python 3 (ipykernel)",
   "language": "python",
   "name": "python3"
  },
  "language_info": {
   "codemirror_mode": {
    "name": "ipython",
    "version": 3
   },
   "file_extension": ".py",
   "mimetype": "text/x-python",
   "name": "python",
   "nbconvert_exporter": "python",
   "pygments_lexer": "ipython3",
   "version": "3.9.15"
  }
 },
 "nbformat": 4,
 "nbformat_minor": 5
}
